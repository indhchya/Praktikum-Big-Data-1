{
  "nbformat": 4,
  "nbformat_minor": 0,
  "metadata": {
    "colab": {
      "provenance": []
    },
    "kernelspec": {
      "name": "python3",
      "display_name": "Python 3"
    },
    "language_info": {
      "name": "python"
    }
  },
  "cells": [
    {
      "cell_type": "code",
      "execution_count": 1,
      "metadata": {
        "colab": {
          "base_uri": "https://localhost:8080/"
        },
        "id": "Kh4lDGDCLveY",
        "outputId": "fe28d0a9-17fe-4fd8-87ff-27aee491acba"
      },
      "outputs": [
        {
          "output_type": "stream",
          "name": "stdout",
          "text": [
            "Requirement already satisfied: pyspark in /usr/local/lib/python3.10/dist-packages (3.5.3)\n",
            "Requirement already satisfied: py4j==0.10.9.7 in /usr/local/lib/python3.10/dist-packages (from pyspark) (0.10.9.7)\n"
          ]
        }
      ],
      "source": [
        "!pip install pyspark"
      ]
    },
    {
      "cell_type": "code",
      "source": [
        "# Example: Linear Regression with Spark MLlib\n",
        "from pyspark.sql import SparkSession\n",
        "from pyspark.ml.regression import LinearRegression\n",
        "from pyspark.ml.feature import VectorAssembler\n",
        "\n",
        "# Initialize Spark Session\n",
        "spark = SparkSession.builder.appName('MLlib Example').getOrCreate()\n",
        "\n",
        "# Load sample data\n",
        "data = [(1, 5.0, 20.0), (2, 10.0, 25.0), (3, 15.0, 30.0), (4, 20.0, 35.0)]\n",
        "columns = ['ID', 'Feature', 'Target']\n",
        "df = spark.createDataFrame(data, columns)\n",
        "\n",
        "# Prepare data for modeling\n",
        "assembler = VectorAssembler(inputCols=['Feature'], outputCol='Features')\n",
        "df_transformed = assembler.transform(df)\n",
        "\n",
        "# Train a linear regression model\n",
        "lr = LinearRegression(featuresCol='Features', labelCol='Target')\n",
        "model = lr.fit(df_transformed)\n",
        "\n",
        "# Print model coefficients\n",
        "print(f'Coefficients: {model.coefficients}')\n",
        "print(f'Intercept: {model.intercept}')"
      ],
      "metadata": {
        "colab": {
          "base_uri": "https://localhost:8080/"
        },
        "id": "l343fsnYMt0X",
        "outputId": "ac7f2f87-bc9c-43fa-8526-9faf13f2e60c"
      },
      "execution_count": 2,
      "outputs": [
        {
          "output_type": "stream",
          "name": "stdout",
          "text": [
            "Coefficients: [0.9999999999999992]\n",
            "Intercept: 15.000000000000009\n"
          ]
        }
      ]
    },
    {
      "cell_type": "code",
      "source": [
        "from pyspark.sql import SparkSession\n",
        "from pyspark.ml.feature import VectorAssembler\n",
        "from pyspark.ml.classification import LogisticRegression\n",
        "\n",
        "# Buat SparkSession\n",
        "spark = SparkSession.builder.appName(\"Logistic Regression Example\").getOrCreate()\n",
        "\n",
        "# Contoh dataset\n",
        "data = [\n",
        "    (1, 2.0, 3.0, 0),\n",
        "    (2, 1.0, 5.0, 1),\n",
        "    (3, 2.5, 4.5, 1),\n",
        "    (4, 3.0, 6.0, 0)\n",
        "]\n",
        "columns = ['ID', 'Feature1', 'Feature2', 'Label']\n",
        "df = spark.createDataFrame(data, columns)\n",
        "\n",
        "# Menggabungkan fitur menjadi satu kolom vektor\n",
        "assembler = VectorAssembler(inputCols=['Feature1', 'Feature2'], outputCol='Features')\n",
        "df = assembler.transform(df)\n",
        "\n",
        "# Inisialisasi dan latih model Logistic Regression\n",
        "lr = LogisticRegression(featuresCol='Features', labelCol='Label')\n",
        "model = lr.fit(df)\n",
        "\n",
        "# Tampilkan koefisien dan intercept\n",
        "print(f'Coefficients: {model.coefficients}')\n",
        "print(f'Intercept: {model.intercept}')\n",
        "\n",
        "# Menutup SparkSession\n",
        "spark.stop()"
      ],
      "metadata": {
        "colab": {
          "base_uri": "https://localhost:8080/"
        },
        "id": "F2AW2Q47NKEe",
        "outputId": "67b10582-79b2-4a02-b9e5-d23effeee599"
      },
      "execution_count": 3,
      "outputs": [
        {
          "output_type": "stream",
          "name": "stdout",
          "text": [
            "Coefficients: [-12.262057929180484,4.087352266486688]\n",
            "Intercept: 11.56891272665312\n"
          ]
        }
      ]
    },
    {
      "cell_type": "code",
      "source": [
        "from pyspark.sql import SparkSession\n",
        "from pyspark.ml.feature import VectorAssembler\n",
        "from pyspark.ml.clustering import KMeans\n",
        "\n",
        "# Buat SparkSession\n",
        "spark = SparkSession.builder.appName(\"KMeans Clustering Example\").getOrCreate()\n",
        "\n",
        "# Contoh dataset\n",
        "data = [\n",
        "    (1, 1.0, 1.0),\n",
        "    (2, 5.0, 5.0),\n",
        "    (3, 10.0, 10.0),\n",
        "    (4, 15.0, 15.0)\n",
        "]\n",
        "columns = ['ID', 'Feature1', 'Feature2']\n",
        "df = spark.createDataFrame(data, columns)\n",
        "\n",
        "# Menggabungkan fitur menjadi satu kolom vektor\n",
        "assembler = VectorAssembler(inputCols=['Feature1', 'Feature2'], outputCol='Features')\n",
        "df = assembler.transform(df)\n",
        "\n",
        "# Latih model KMeans clustering\n",
        "kmeans = KMeans(featuresCol='Features', k=2)\n",
        "model = kmeans.fit(df)\n",
        "\n",
        "# Tampilkan pusat cluster\n",
        "centers = model.clusterCenters()\n",
        "print(f'Cluster Centers: {centers}')\n",
        "\n",
        "# Menutup SparkSession\n",
        "spark.stop()"
      ],
      "metadata": {
        "colab": {
          "base_uri": "https://localhost:8080/"
        },
        "id": "hbvdOS-FN8It",
        "outputId": "44a958c3-d2cb-4b98-9fce-a1317c17053a"
      },
      "execution_count": 4,
      "outputs": [
        {
          "output_type": "stream",
          "name": "stdout",
          "text": [
            "Cluster Centers: [array([12.5, 12.5]), array([3., 3.])]\n"
          ]
        }
      ]
    },
    {
      "cell_type": "markdown",
      "source": [
        "# HOMEWORK"
      ],
      "metadata": {
        "id": "HNm31oNoOVFp"
      }
    },
    {
      "cell_type": "markdown",
      "source": [
        "1. Load a Real-World Dataset into Spark and Prepare it for Machine Learning Tasks"
      ],
      "metadata": {
        "id": "-xjUWGvFTHZb"
      }
    },
    {
      "cell_type": "code",
      "source": [
        "from pyspark.sql import SparkSession\n",
        "from pyspark.ml.feature import VectorAssembler\n",
        "from pyspark.sql.functions import col\n",
        "\n",
        "# Inisialisasi Spark session\n",
        "spark = SparkSession.builder.appName(\"Netflix Classification\").getOrCreate()\n",
        "\n",
        "# Memuat dataset Netflix (misalnya dari file CSV)\n",
        "data = spark.read.csv(\"Netflix_Movies_and_TV_Shows.csv\", header=True, inferSchema=True)\n",
        "\n",
        "# Menampilkan beberapa baris pertama dataset untuk memverifikasi data\n",
        "data.show()"
      ],
      "metadata": {
        "colab": {
          "base_uri": "https://localhost:8080/"
        },
        "id": "iCKkOMUFObL5",
        "outputId": "9dbf7e01-7458-4ae6-e20e-d3e2f1fd48e0"
      },
      "execution_count": 10,
      "outputs": [
        {
          "output_type": "stream",
          "name": "stdout",
          "text": [
            "+--------+-------+-----------+------------+------+---------+--------------+\n",
            "|   Title|   Type|      Genre|Release Year|Rating| Duration|       Country|\n",
            "+--------+-------+-----------+------------+------+---------+--------------+\n",
            "| Title 1|TV Show|     Comedy|        1955|    PG|3 Seasons|         Japan|\n",
            "| Title 2|TV Show|     Horror|        2020|     G|3 Seasons|         India|\n",
            "| Title 3|TV Show|     Action|        1966| TV-PG|  140 min| United States|\n",
            "| Title 4|  Movie|   Thriller|        2011| PG-13|3 Seasons|        Canada|\n",
            "| Title 5|TV Show|    Romance|        1959| TV-14|  172 min|         India|\n",
            "| Title 6|  Movie|     Action|        2007| PG-13|3 Seasons|         Japan|\n",
            "| Title 7|  Movie|    Romance|        1977| TV-14|   68 min| United States|\n",
            "| Title 8|  Movie|     Comedy|        1971| TV-PG|  104 min|         Japan|\n",
            "| Title 9|  Movie|      Drama|        2000| PG-13|2 Seasons|        Canada|\n",
            "|Title 10|  Movie|   Thriller|        1975| TV-MA|1 Seasons|         India|\n",
            "|Title 11|TV Show|    Romance|        2021| TV-14|  139 min|     Australia|\n",
            "|Title 12|TV Show|     Action|        1986| PG-13|   85 min|       Germany|\n",
            "|Title 13|  Movie|Documentary|        1997|     R|  129 min|     Australia|\n",
            "|Title 14|  Movie|     Sci-Fi|        1986| TV-PG|  129 min|       Germany|\n",
            "|Title 15|TV Show|Documentary|        1994| PG-13|3 Seasons|        Canada|\n",
            "|Title 16|TV Show|     Horror|        1996| TV-MA|  107 min|         Japan|\n",
            "|Title 17|  Movie|     Comedy|        1969| TV-PG|1 Seasons|United Kingdom|\n",
            "|Title 18|TV Show|      Drama|        1983|     G|  147 min|   South Korea|\n",
            "|Title 19|  Movie|    Romance|        2011|     G|1 Seasons|United Kingdom|\n",
            "|Title 20|  Movie|    Romance|        2023|     R|1 Seasons|United Kingdom|\n",
            "+--------+-------+-----------+------------+------+---------+--------------+\n",
            "only showing top 20 rows\n",
            "\n"
          ]
        }
      ]
    },
    {
      "cell_type": "code",
      "source": [
        "from pyspark.ml.feature import StringIndexer, VectorAssembler\n",
        "from pyspark.sql import SparkSession\n",
        "\n",
        "# Membuat sesi Spark\n",
        "spark = SparkSession.builder.appName(\"FeatureEngineering\").getOrCreate()\n",
        "\n",
        "# Menghapus baris dengan nilai yang hilang\n",
        "data = data.na.drop()\n",
        "\n",
        "# Mengubah kolom kategori menjadi numerik\n",
        "indexer_genre = StringIndexer(inputCol=\"Genre\", outputCol=\"Genre_index\")\n",
        "indexer_country = StringIndexer(inputCol=\"Country\", outputCol=\"Country_index\")\n",
        "\n",
        "# Menerapkan StringIndexer untuk setiap kolom\n",
        "data = indexer_genre.fit(data).transform(data)\n",
        "data = indexer_country.fit(data).transform(data)\n",
        "\n",
        "# Menggabungkan fitur menjadi satu vektor\n",
        "assembler = VectorAssembler(inputCols=[\"Genre_index\", \"Country_index\"], outputCol=\"features_vector\")\n",
        "\n",
        "# Menghasilkan vektor fitur\n",
        "final_data = assembler.transform(data)\n",
        "\n",
        "# Menampilkan 10 baris pertama\n",
        "final_data.show(10)"
      ],
      "metadata": {
        "colab": {
          "base_uri": "https://localhost:8080/"
        },
        "id": "Nx4lLbs6VOWA",
        "outputId": "e0dde07c-de47-4815-93cb-376911aa0085"
      },
      "execution_count": 11,
      "outputs": [
        {
          "output_type": "stream",
          "name": "stdout",
          "text": [
            "+--------+-------+--------+------------+------+---------+-------------+-----------+-------------+---------------+\n",
            "|   Title|   Type|   Genre|Release Year|Rating| Duration|      Country|Genre_index|Country_index|features_vector|\n",
            "+--------+-------+--------+------------+------+---------+-------------+-----------+-------------+---------------+\n",
            "| Title 1|TV Show|  Comedy|        1955|    PG|3 Seasons|        Japan|        4.0|          7.0|      [4.0,7.0]|\n",
            "| Title 2|TV Show|  Horror|        2020|     G|3 Seasons|        India|        0.0|          6.0|      [0.0,6.0]|\n",
            "| Title 3|TV Show|  Action|        1966| TV-PG|  140 min|United States|        6.0|          5.0|      [6.0,5.0]|\n",
            "| Title 4|  Movie|Thriller|        2011| PG-13|3 Seasons|       Canada|        1.0|          0.0|      [1.0,0.0]|\n",
            "| Title 5|TV Show| Romance|        1959| TV-14|  172 min|        India|        3.0|          6.0|      [3.0,6.0]|\n",
            "| Title 6|  Movie|  Action|        2007| PG-13|3 Seasons|        Japan|        6.0|          7.0|      [6.0,7.0]|\n",
            "| Title 7|  Movie| Romance|        1977| TV-14|   68 min|United States|        3.0|          5.0|      [3.0,5.0]|\n",
            "| Title 8|  Movie|  Comedy|        1971| TV-PG|  104 min|        Japan|        4.0|          7.0|      [4.0,7.0]|\n",
            "| Title 9|  Movie|   Drama|        2000| PG-13|2 Seasons|       Canada|        2.0|          0.0|      [2.0,0.0]|\n",
            "|Title 10|  Movie|Thriller|        1975| TV-MA|1 Seasons|        India|        1.0|          6.0|      [1.0,6.0]|\n",
            "+--------+-------+--------+------------+------+---------+-------------+-----------+-------------+---------------+\n",
            "only showing top 10 rows\n",
            "\n"
          ]
        }
      ]
    },
    {
      "cell_type": "markdown",
      "source": [
        "2. Build a classification model using Spark MLlib and evaluate its performance."
      ],
      "metadata": {
        "id": "WWG0NM-7XjTj"
      }
    },
    {
      "source": [
        "from pyspark.sql import SparkSession\n",
        "from pyspark.ml.feature import StringIndexer, VectorAssembler\n",
        "from pyspark.ml.classification import LogisticRegression\n",
        "from pyspark.ml.evaluation import MulticlassClassificationEvaluator\n",
        "\n",
        "# Membuat sesi Spark\n",
        "spark = SparkSession.builder.appName(\"NetflixClassification\").getOrCreate()\n",
        "\n",
        "# Membaca dataset\n",
        "data = spark.read.csv(\"Netflix_Movies_and_TV_Shows.csv\", header=True, inferSchema=True).na.drop()\n",
        "\n",
        "# Preprocessing data\n",
        "data = StringIndexer(inputCol=\"Type\", outputCol=\"label\").fit(data).transform(data)\n",
        "data = StringIndexer(inputCol=\"Genre\", outputCol=\"Genre_index\").fit(data).transform(data)\n",
        "data = StringIndexer(inputCol=\"Country\", outputCol=\"Country_index\").fit(data).transform(data)\n",
        "data = VectorAssembler(inputCols=[\"Genre_index\", \"Country_index\", \"Release Year\"], outputCol=\"features\").transform(data)\n",
        "\n",
        "# Memisahkan data\n",
        "train_data, test_data = data.randomSplit([0.8, 0.2], seed=42)\n",
        "\n",
        "# Membuat dan melatih model\n",
        "lr = LogisticRegression(featuresCol=\"features\", labelCol=\"label\")\n",
        "model_lr = lr.fit(train_data)\n",
        "\n",
        "# Membuat prediksi\n",
        "predictions = model_lr.transform(test_data)\n",
        "\n",
        "# Mengevaluasi model\n",
        "accuracy = MulticlassClassificationEvaluator(labelCol=\"label\", predictionCol=\"prediction\", metricName=\"accuracy\").evaluate(predictions)\n",
        "\n",
        "# Menampilkan akurasi\n",
        "print(f\"Akurasi: {accuracy}\")"
      ],
      "cell_type": "code",
      "metadata": {
        "colab": {
          "base_uri": "https://localhost:8080/"
        },
        "id": "h6T5dGvPYHAv",
        "outputId": "86016d0d-bd2f-4a11-9a97-2337114e552d"
      },
      "execution_count": 3,
      "outputs": [
        {
          "output_type": "stream",
          "name": "stdout",
          "text": [
            "Akurasi: 0.5373406193078324\n"
          ]
        }
      ]
    },
    {
      "cell_type": "markdown",
      "source": [
        "3. Explore hyperparameter tuning using cross-validation."
      ],
      "metadata": {
        "id": "yFiISK29vTtL"
      }
    },
    {
      "cell_type": "code",
      "source": [
        "from pyspark.sql import SparkSession\n",
        "from pyspark.ml.feature import StringIndexer, VectorAssembler\n",
        "from pyspark.ml.classification import LogisticRegression\n",
        "from pyspark.ml.evaluation import MulticlassClassificationEvaluator\n",
        "from pyspark.ml.tuning import ParamGridBuilder, CrossValidator\n",
        "\n",
        "# Membuat sesi Spark\n",
        "spark = SparkSession.builder.appName(\"NetflixHyperparameterTuning\").getOrCreate()\n",
        "\n",
        "# Membaca dataset\n",
        "data = spark.read.csv(\"Netflix_Movies_and_TV_Shows.csv\", header=True, inferSchema=True).na.drop()\n",
        "\n",
        "# Preprocessing data\n",
        "data = StringIndexer(inputCol=\"Type\", outputCol=\"label\").fit(data).transform(data)\n",
        "data = StringIndexer(inputCol=\"Genre\", outputCol=\"Genre_index\").fit(data).transform(data)\n",
        "data = StringIndexer(inputCol=\"Country\", outputCol=\"Country_index\").fit(data).transform(data)\n",
        "data = VectorAssembler(inputCols=[\"Genre_index\", \"Country_index\", \"Release Year\"], outputCol=\"features\").transform(data)\n",
        "\n",
        "# Memisahkan data\n",
        "train_data, test_data = data.randomSplit([0.8, 0.2], seed=42)\n",
        "\n",
        "# Membuat model Logistic Regression\n",
        "lr = LogisticRegression(featuresCol=\"features\", labelCol=\"label\")\n",
        "\n",
        "# Membuat parameter grid untuk hyperparameter tuning\n",
        "paramGrid = ParamGridBuilder() \\\n",
        "    .addGrid(lr.regParam, [0.01, 0.1, 1.0]) \\\n",
        "    .addGrid(lr.elasticNetParam, [0.0, 0.5, 1.0]) \\\n",
        "    .build()\n",
        "\n",
        "# Evaluator untuk cross-validation\n",
        "evaluator = MulticlassClassificationEvaluator(labelCol=\"label\", predictionCol=\"prediction\", metricName=\"accuracy\")\n",
        "\n",
        "# Membuat CrossValidator\n",
        "crossval = CrossValidator(estimator=lr,\n",
        "                          estimatorParamMaps=paramGrid,\n",
        "                          evaluator=evaluator,\n",
        "                          numFolds=5)  # 5-fold cross-validation\n",
        "\n",
        "# Melakukan cross-validation untuk mencari model terbaik\n",
        "cv_model = crossval.fit(train_data)\n",
        "\n",
        "# Memprediksi pada data pengujian\n",
        "predictions = cv_model.transform(test_data)\n",
        "\n",
        "# Mengevaluasi akurasi model terbaik\n",
        "accuracy = evaluator.evaluate(predictions)\n",
        "\n",
        "# Menampilkan akurasi dan parameter terbaik\n",
        "print(f\"Akurasi Model Terbaik: {accuracy}\")\n",
        "print(f\"Hyperparameter Terbaik: {cv_model.bestModel.explainParams()}\")"
      ],
      "metadata": {
        "colab": {
          "base_uri": "https://localhost:8080/"
        },
        "id": "y7BQXd5cvyE1",
        "outputId": "e15f1e14-5732-4f99-8415-6224d3db4055"
      },
      "execution_count": 8,
      "outputs": [
        {
          "output_type": "stream",
          "name": "stdout",
          "text": [
            "Akurasi Model Terbaik: 0.5209471766848816\n",
            "Hyperparameter Terbaik: aggregationDepth: suggested depth for treeAggregate (>= 2). (default: 2)\n",
            "elasticNetParam: the ElasticNet mixing parameter, in range [0, 1]. For alpha = 0, the penalty is an L2 penalty. For alpha = 1, it is an L1 penalty. (default: 0.0, current: 0.5)\n",
            "family: The name of family which is a description of the label distribution to be used in the model. Supported options: auto, binomial, multinomial (default: auto)\n",
            "featuresCol: features column name. (default: features, current: features)\n",
            "fitIntercept: whether to fit an intercept term. (default: True)\n",
            "labelCol: label column name. (default: label, current: label)\n",
            "lowerBoundsOnCoefficients: The lower bounds on coefficients if fitting under bound constrained optimization. The bound matrix must be compatible with the shape (1, number of features) for binomial regression, or (number of classes, number of features) for multinomial regression. (undefined)\n",
            "lowerBoundsOnIntercepts: The lower bounds on intercepts if fitting under bound constrained optimization. The bounds vector size must beequal with 1 for binomial regression, or the number oflasses for multinomial regression. (undefined)\n",
            "maxBlockSizeInMB: maximum memory in MB for stacking input data into blocks. Data is stacked within partitions. If more than remaining data size in a partition then it is adjusted to the data size. Default 0.0 represents choosing optimal value, depends on specific algorithm. Must be >= 0. (default: 0.0)\n",
            "maxIter: max number of iterations (>= 0). (default: 100)\n",
            "predictionCol: prediction column name. (default: prediction)\n",
            "probabilityCol: Column name for predicted class conditional probabilities. Note: Not all models output well-calibrated probability estimates! These probabilities should be treated as confidences, not precise probabilities. (default: probability)\n",
            "rawPredictionCol: raw prediction (a.k.a. confidence) column name. (default: rawPrediction)\n",
            "regParam: regularization parameter (>= 0). (default: 0.0, current: 0.1)\n",
            "standardization: whether to standardize the training features before fitting the model. (default: True)\n",
            "threshold: Threshold in binary classification prediction, in range [0, 1]. If threshold and thresholds are both set, they must match.e.g. if threshold is p, then thresholds must be equal to [1-p, p]. (default: 0.5)\n",
            "thresholds: Thresholds in multi-class classification to adjust the probability of predicting each class. Array must have length equal to the number of classes, with values > 0, excepting that at most one value may be 0. The class with largest value p/t is predicted, where p is the original probability of that class and t is the class's threshold. (undefined)\n",
            "tol: the convergence tolerance for iterative algorithms (>= 0). (default: 1e-06)\n",
            "upperBoundsOnCoefficients: The upper bounds on coefficients if fitting under bound constrained optimization. The bound matrix must be compatible with the shape (1, number of features) for binomial regression, or (number of classes, number of features) for multinomial regression. (undefined)\n",
            "upperBoundsOnIntercepts: The upper bounds on intercepts if fitting under bound constrained optimization. The bound vector size must be equal with 1 for binomial regression, or the number of classes for multinomial regression. (undefined)\n",
            "weightCol: weight column name. If this is not set or empty, we treat all instance weights as 1.0. (undefined)\n"
          ]
        }
      ]
    }
  ]
}