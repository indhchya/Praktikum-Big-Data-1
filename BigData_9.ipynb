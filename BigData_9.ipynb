{
  "nbformat": 4,
  "nbformat_minor": 0,
  "metadata": {
    "colab": {
      "provenance": []
    },
    "kernelspec": {
      "name": "python3",
      "display_name": "Python 3"
    },
    "language_info": {
      "name": "python"
    }
  },
  "cells": [
    {
      "cell_type": "code",
      "source": [
        "pip install pyspark==3.3.0"
      ],
      "metadata": {
        "colab": {
          "base_uri": "https://localhost:8080/"
        },
        "id": "EQ95II6o2HeA",
        "outputId": "06d87a00-c398-4789-eb05-0f0f97bf1af9"
      },
      "execution_count": null,
      "outputs": [
        {
          "output_type": "stream",
          "name": "stdout",
          "text": [
            "Collecting pyspark==3.3.0\n",
            "  Downloading pyspark-3.3.0.tar.gz (281.3 MB)\n",
            "\u001b[2K     \u001b[90m━━━━━━━━━━━━━━━━━━━━━━━━━━━━━━━━━━━━━━━━\u001b[0m \u001b[32m281.3/281.3 MB\u001b[0m \u001b[31m5.0 MB/s\u001b[0m eta \u001b[36m0:00:00\u001b[0m\n",
            "\u001b[?25h  Preparing metadata (setup.py) ... \u001b[?25l\u001b[?25hdone\n",
            "Collecting py4j==0.10.9.5 (from pyspark==3.3.0)\n",
            "  Downloading py4j-0.10.9.5-py2.py3-none-any.whl.metadata (1.5 kB)\n",
            "Downloading py4j-0.10.9.5-py2.py3-none-any.whl (199 kB)\n",
            "\u001b[2K   \u001b[90m━━━━━━━━━━━━━━━━━━━━━━━━━━━━━━━━━━━━━━━━\u001b[0m \u001b[32m199.7/199.7 kB\u001b[0m \u001b[31m14.7 MB/s\u001b[0m eta \u001b[36m0:00:00\u001b[0m\n",
            "\u001b[?25hBuilding wheels for collected packages: pyspark\n",
            "  Building wheel for pyspark (setup.py) ... \u001b[?25l\u001b[?25hdone\n",
            "  Created wheel for pyspark: filename=pyspark-3.3.0-py2.py3-none-any.whl size=281764003 sha256=44bf21c77fd3fd7e283f34be2da5579c2f214cf8f86bda6ca5b950bf8c83772c\n",
            "  Stored in directory: /root/.cache/pip/wheels/81/9c/6c/d5200fcf351ffa39cbe09911e99703283624cd037df58070d9\n",
            "Successfully built pyspark\n",
            "Installing collected packages: py4j, pyspark\n",
            "  Attempting uninstall: py4j\n",
            "    Found existing installation: py4j 0.10.9.7\n",
            "    Uninstalling py4j-0.10.9.7:\n",
            "      Successfully uninstalled py4j-0.10.9.7\n",
            "  Attempting uninstall: pyspark\n",
            "    Found existing installation: pyspark 3.5.3\n",
            "    Uninstalling pyspark-3.5.3:\n",
            "      Successfully uninstalled pyspark-3.5.3\n",
            "Successfully installed py4j-0.10.9.5 pyspark-3.3.0\n"
          ]
        }
      ]
    },
    {
      "cell_type": "code",
      "source": [
        "pip install findspark"
      ],
      "metadata": {
        "colab": {
          "base_uri": "https://localhost:8080/"
        },
        "id": "Al60-Si82oxy",
        "outputId": "ffafeb51-d8d0-40db-b36e-9bf6f673b068"
      },
      "execution_count": null,
      "outputs": [
        {
          "output_type": "stream",
          "name": "stdout",
          "text": [
            "Requirement already satisfied: findspark in /usr/local/lib/python3.10/dist-packages (2.0.1)\n"
          ]
        }
      ]
    },
    {
      "cell_type": "code",
      "source": [
        "pip install matplotlib"
      ],
      "metadata": {
        "colab": {
          "base_uri": "https://localhost:8080/"
        },
        "id": "J-VW7FaZ26T_",
        "outputId": "1c360c75-3d9d-4bf9-9d2c-3f693ba4a575"
      },
      "execution_count": null,
      "outputs": [
        {
          "output_type": "stream",
          "name": "stdout",
          "text": [
            "Requirement already satisfied: matplotlib in /usr/local/lib/python3.10/dist-packages (3.5.0)\n",
            "Requirement already satisfied: cycler>=0.10 in /usr/local/lib/python3.10/dist-packages (from matplotlib) (0.12.1)\n",
            "Requirement already satisfied: fonttools>=4.22.0 in /usr/local/lib/python3.10/dist-packages (from matplotlib) (4.54.1)\n",
            "Requirement already satisfied: kiwisolver>=1.0.1 in /usr/local/lib/python3.10/dist-packages (from matplotlib) (1.4.7)\n",
            "Requirement already satisfied: numpy>=1.17 in /usr/local/lib/python3.10/dist-packages (from matplotlib) (1.26.4)\n",
            "Requirement already satisfied: packaging>=20.0 in /usr/local/lib/python3.10/dist-packages (from matplotlib) (24.1)\n",
            "Requirement already satisfied: pillow>=6.2.0 in /usr/local/lib/python3.10/dist-packages (from matplotlib) (10.4.0)\n",
            "Requirement already satisfied: pyparsing>=2.2.1 in /usr/local/lib/python3.10/dist-packages (from matplotlib) (3.2.0)\n",
            "Requirement already satisfied: python-dateutil>=2.7 in /usr/local/lib/python3.10/dist-packages (from matplotlib) (2.8.2)\n",
            "Requirement already satisfied: setuptools-scm>=4 in /usr/local/lib/python3.10/dist-packages (from matplotlib) (8.1.0)\n",
            "Requirement already satisfied: six>=1.5 in /usr/local/lib/python3.10/dist-packages (from python-dateutil>=2.7->matplotlib) (1.16.0)\n",
            "Requirement already satisfied: setuptools in /usr/local/lib/python3.10/dist-packages (from setuptools-scm>=4->matplotlib) (75.1.0)\n",
            "Requirement already satisfied: tomli>=1 in /usr/local/lib/python3.10/dist-packages (from setuptools-scm>=4->matplotlib) (2.0.2)\n"
          ]
        }
      ]
    },
    {
      "cell_type": "code",
      "source": [
        "from pyspark.sql import SparkSession"
      ],
      "metadata": {
        "id": "FJK_SB1Q3ym0"
      },
      "execution_count": null,
      "outputs": []
    },
    {
      "cell_type": "code",
      "source": [
        "spark = SparkSession.builder.appName(\"MySparkApp\").getOrCreate()"
      ],
      "metadata": {
        "id": "ntDuH44o335y"
      },
      "execution_count": null,
      "outputs": []
    },
    {
      "cell_type": "code",
      "source": [
        "# TUGAS 1\n",
        "data = [\n",
        "    ('James', 34, 'M', 3000, 1),\n",
        "    ('Anna', 28, 'F', 4100, 2),\n",
        "    ('Lee', 23, 'M', 2700, 1)\n",
        "]\n",
        "columns = ['Name', 'Age', 'Gender', 'Salary', 'DeptId']\n",
        "df = spark.createDataFrame(data, schema=columns)\n",
        "df.createOrReplaceTempView('employees')\n",
        "spark.sql('SELECT * FROM employees').show()\n",
        "spark.sql('SELECT Name, Age FROM employees WHERE Salary > 3000').show()\n",
        "spark.sql('SELECT AVG(Salary) FROM employees').show()"
      ],
      "metadata": {
        "colab": {
          "base_uri": "https://localhost:8080/"
        },
        "id": "q82rVOni3dM3",
        "outputId": "ce32f3fd-bd8d-4e07-9bb4-8d3ee518801f"
      },
      "execution_count": null,
      "outputs": [
        {
          "output_type": "stream",
          "name": "stdout",
          "text": [
            "+-----+---+------+------+------+\n",
            "| Name|Age|Gender|Salary|DeptId|\n",
            "+-----+---+------+------+------+\n",
            "|James| 34|     M|  3000|     1|\n",
            "| Anna| 28|     F|  4100|     2|\n",
            "|  Lee| 23|     M|  2700|     1|\n",
            "+-----+---+------+------+------+\n",
            "\n",
            "+----+---+\n",
            "|Name|Age|\n",
            "+----+---+\n",
            "|Anna| 28|\n",
            "+----+---+\n",
            "\n",
            "+------------------+\n",
            "|       avg(Salary)|\n",
            "+------------------+\n",
            "|3266.6666666666665|\n",
            "+------------------+\n",
            "\n"
          ]
        }
      ]
    },
    {
      "cell_type": "code",
      "source": [
        "# TUGAS 2\n",
        "spark.sql('''\n",
        "SELECT Gender, SUM(Salary) as TotalSalary, Age\n",
        "FROM employees\n",
        "GROUP BY Gender, Age\n",
        "ORDER BY Age\n",
        "''').show()"
      ],
      "metadata": {
        "colab": {
          "base_uri": "https://localhost:8080/"
        },
        "id": "Xy2m8SBl4V9O",
        "outputId": "89fa9165-c590-44db-e239-f61c625329eb"
      },
      "execution_count": null,
      "outputs": [
        {
          "output_type": "stream",
          "name": "stdout",
          "text": [
            "+------+-----------+---+\n",
            "|Gender|TotalSalary|Age|\n",
            "+------+-----------+---+\n",
            "|     M|       2700| 23|\n",
            "|     F|       4100| 28|\n",
            "|     M|       3000| 34|\n",
            "+------+-----------+---+\n",
            "\n"
          ]
        }
      ]
    },
    {
      "cell_type": "code",
      "source": [
        "# Rata-rata Gaji per Departemen\n",
        "spark.sql('''\n",
        "SELECT DeptId, AVG(Salary) as AvgSalary\n",
        "FROM employees\n",
        "GROUP BY DeptId\n",
        "''').show()"
      ],
      "metadata": {
        "colab": {
          "base_uri": "https://localhost:8080/"
        },
        "id": "d6mNFndA5Vty",
        "outputId": "e9576c90-444c-46f8-eb18-7b13fb54c591"
      },
      "execution_count": null,
      "outputs": [
        {
          "output_type": "stream",
          "name": "stdout",
          "text": [
            "+------+---------+\n",
            "|DeptId|AvgSalary|\n",
            "+------+---------+\n",
            "|     1|   2850.0|\n",
            "|     2|   4100.0|\n",
            "+------+---------+\n",
            "\n"
          ]
        }
      ]
    },
    {
      "cell_type": "code",
      "source": [
        "# Karyawan dengan Gaji di Atas Rata-Rata Berdasarkan Gender\n",
        "avg_salary_by_gender = spark.sql('''\n",
        "SELECT Gender, AVG(Salary) as AvgSalary\n",
        "FROM employees\n",
        "GROUP BY Gender\n",
        "''')\n",
        "\n",
        "spark.sql('''\n",
        "SELECT e.Name, e.Gender, e.Salary\n",
        "FROM employees e\n",
        "JOIN (SELECT Gender, AVG(Salary) as AvgSalary FROM employees GROUP BY Gender) avg\n",
        "ON e.Gender = avg.Gender\n",
        "WHERE e.Salary > avg.AvgSalary\n",
        "''').show()"
      ],
      "metadata": {
        "colab": {
          "base_uri": "https://localhost:8080/"
        },
        "id": "DCNoI6Ci5mbZ",
        "outputId": "43ced4f8-d493-467c-cd4a-0074ad800daf"
      },
      "execution_count": null,
      "outputs": [
        {
          "output_type": "stream",
          "name": "stdout",
          "text": [
            "+-----+------+------+\n",
            "| Name|Gender|Salary|\n",
            "+-----+------+------+\n",
            "|James|     M|  3000|\n",
            "+-----+------+------+\n",
            "\n"
          ]
        }
      ]
    },
    {
      "cell_type": "code",
      "source": [
        "# Ranking Karyawan Berdasarkan Gaji dalam Departemen\n",
        "spark.sql('''\n",
        "SELECT Name, DeptId, Salary,\n",
        "       DENSE_RANK() OVER (PARTITION BY DeptId ORDER BY Salary DESC) as SalaryRank\n",
        "FROM employees\n",
        "''').show()"
      ],
      "metadata": {
        "colab": {
          "base_uri": "https://localhost:8080/"
        },
        "id": "0wsYe_Dx577b",
        "outputId": "a7b8a4c2-2bfe-4f83-e32d-f086f2d512be"
      },
      "execution_count": null,
      "outputs": [
        {
          "output_type": "stream",
          "name": "stdout",
          "text": [
            "+-----+------+------+----------+\n",
            "| Name|DeptId|Salary|SalaryRank|\n",
            "+-----+------+------+----------+\n",
            "|James|     1|  3000|         1|\n",
            "|  Lee|     1|  2700|         2|\n",
            "| Anna|     2|  4100|         1|\n",
            "+-----+------+------+----------+\n",
            "\n"
          ]
        }
      ]
    },
    {
      "source": [
        "# TUGAS 3\n",
        "spark.sql('''\n",
        "SELECT Name, Age, Salary, rank\n",
        "FROM (\n",
        "    SELECT Name, Age, Salary,\n",
        "           ROW_NUMBER() OVER (PARTITION BY Age ORDER BY Salary DESC) as rank\n",
        "    FROM employees\n",
        ") ranked_employees\n",
        "WHERE rank <= 3\n",
        "''').show()"
      ],
      "cell_type": "code",
      "metadata": {
        "colab": {
          "base_uri": "https://localhost:8080/"
        },
        "id": "Cwh-xQxD6sb6",
        "outputId": "d750ce77-7f4d-44ae-b9cc-7c3b61005dbf"
      },
      "execution_count": null,
      "outputs": [
        {
          "output_type": "stream",
          "name": "stdout",
          "text": [
            "+-----+---+------+----+\n",
            "| Name|Age|Salary|rank|\n",
            "+-----+---+------+----+\n",
            "|  Lee| 23|  2700|   1|\n",
            "| Anna| 28|  4100|   1|\n",
            "|James| 34|  3000|   1|\n",
            "+-----+---+------+----+\n",
            "\n"
          ]
        }
      ]
    },
    {
      "cell_type": "code",
      "source": [
        "from pyspark.sql import SparkSession\n",
        "spark = SparkSession.builder.appName('Pertemuan9').getOrCreate()\n",
        "\n",
        "# Data setup for complex SQL queries\n",
        "employees = spark.createDataFrame([\n",
        "    ('James', 34, 'M', 3000, 1),\n",
        "    ('Anna', 28, 'F', 4100, 2),\n",
        "    ('Lee', 23, 'M', 2700, 1)\n",
        "], ['Name', 'Age', 'Gender', 'Salary', 'DeptId'])\n",
        "departments = spark.createDataFrame([\n",
        "    (1, 'HR'),\n",
        "    (2, 'Marketing')\n",
        "], ['DeptId', 'DeptName'])\n",
        "projects = spark.createDataFrame([\n",
        "    (1, 'Project A'),\n",
        "    (2, 'Project B')\n",
        "], ['DeptId', 'ProjectName'])\n",
        "employees.createOrReplaceTempView('employees')\n",
        "departments.createOrReplaceTempView('departments')\n",
        "projects.createOrReplaceTempView('projects')\n",
        "\n",
        "# Complex SQL query involving multiple joins and subqueries\n",
        "spark.sql('''\n",
        "SELECT e.Name, e.Age, d.DeptName, p.ProjectName\n",
        "FROM employees e\n",
        "JOIN departments d ON e.DeptId = d.DeptId\n",
        "JOIN projects p ON e.DeptId = p.DeptId\n",
        "''').show()"
      ],
      "metadata": {
        "colab": {
          "base_uri": "https://localhost:8080/"
        },
        "id": "xPxh6rgw663A",
        "outputId": "de16c627-25a3-4fd0-9ade-bb7e81633af3"
      },
      "execution_count": null,
      "outputs": [
        {
          "output_type": "stream",
          "name": "stdout",
          "text": [
            "+-----+---+---------+-----------+\n",
            "| Name|Age| DeptName|ProjectName|\n",
            "+-----+---+---------+-----------+\n",
            "|  Lee| 23|       HR|  Project A|\n",
            "|James| 34|       HR|  Project A|\n",
            "| Anna| 28|Marketing|  Project B|\n",
            "+-----+---+---------+-----------+\n",
            "\n"
          ]
        }
      ]
    },
    {
      "cell_type": "code",
      "source": [
        "# TUGAS 4\n",
        "spark.sql('''\n",
        "SELECT e.Name, e.Age, d.DeptName, p.ProjectName\n",
        "FROM employees e\n",
        "JOIN departments d ON e.DeptId = d.DeptId\n",
        "JOIN projects p ON e.DeptId = p.DeptId\n",
        "''').show()"
      ],
      "metadata": {
        "colab": {
          "base_uri": "https://localhost:8080/"
        },
        "id": "Yw1mWoaI7f1I",
        "outputId": "7898d358-4131-412a-f9cb-732038cee3a5"
      },
      "execution_count": null,
      "outputs": [
        {
          "output_type": "stream",
          "name": "stdout",
          "text": [
            "+-----+---+---------+-----------+\n",
            "| Name|Age| DeptName|ProjectName|\n",
            "+-----+---+---------+-----------+\n",
            "|  Lee| 23|       HR|  Project A|\n",
            "|James| 34|       HR|  Project A|\n",
            "| Anna| 28|Marketing|  Project B|\n",
            "+-----+---+---------+-----------+\n",
            "\n"
          ]
        }
      ]
    },
    {
      "cell_type": "code",
      "source": [
        "# TUGAS 5\n",
        "spark.sql('''\n",
        "WITH avg_salary AS (\n",
        "    SELECT DeptId, AVG(Salary) as AvgSalary\n",
        "    FROM employees\n",
        "    GROUP BY DeptId\n",
        ")\n",
        "SELECT e.Name, e.Salary, d.DeptName, avg_s.AvgSalary,\n",
        "       DENSE_RANK() OVER (PARTITION BY e.DeptId ORDER BY e.Salary DESC) as SalaryRank\n",
        "FROM employees e\n",
        "JOIN departments d ON e.DeptId = d.DeptId\n",
        "JOIN avg_salary avg_s ON e.DeptId = avg_s.DeptId\n",
        "''').show()"
      ],
      "metadata": {
        "colab": {
          "base_uri": "https://localhost:8080/"
        },
        "id": "t9WIUbTo7p9t",
        "outputId": "456d83c2-8adb-429e-8386-90327d26841f"
      },
      "execution_count": null,
      "outputs": [
        {
          "output_type": "stream",
          "name": "stdout",
          "text": [
            "+-----+------+---------+---------+----------+\n",
            "| Name|Salary| DeptName|AvgSalary|SalaryRank|\n",
            "+-----+------+---------+---------+----------+\n",
            "|James|  3000|       HR|   2850.0|         1|\n",
            "|  Lee|  2700|       HR|   2850.0|         2|\n",
            "| Anna|  4100|Marketing|   4100.0|         1|\n",
            "+-----+------+---------+---------+----------+\n",
            "\n"
          ]
        }
      ]
    },
    {
      "cell_type": "code",
      "source": [
        "# TUGAS 6\n",
        "spark.sql('''\n",
        "SELECT e.Name, e.Age, e.Salary, d.DeptName,\n",
        "       LAG(e.Salary, 1) OVER (PARTITION BY e.DeptId ORDER BY e.Age) as PreviousSalary,\n",
        "       e.Salary - LAG(e.Salary, 1) OVER (PARTITION BY e.DeptId ORDER BY e.Age) as SalaryChange\n",
        "FROM employees e\n",
        "JOIN departments d ON e.DeptId = d.DeptId\n",
        "''').show()"
      ],
      "metadata": {
        "colab": {
          "base_uri": "https://localhost:8080/"
        },
        "id": "HgXKYa_n77Ww",
        "outputId": "040cc292-7433-4bc5-d1d8-6f4df004b89c"
      },
      "execution_count": null,
      "outputs": [
        {
          "output_type": "stream",
          "name": "stdout",
          "text": [
            "+-----+---+------+---------+--------------+------------+\n",
            "| Name|Age|Salary| DeptName|PreviousSalary|SalaryChange|\n",
            "+-----+---+------+---------+--------------+------------+\n",
            "|  Lee| 23|  2700|       HR|          null|        null|\n",
            "|James| 34|  3000|       HR|          2700|         300|\n",
            "| Anna| 28|  4100|Marketing|          null|        null|\n",
            "+-----+---+------+---------+--------------+------------+\n",
            "\n"
          ]
        }
      ]
    },
    {
      "source": [
        "# TUGAS 7\n",
        "import matplotlib.pyplot as plt\n",
        "import pandas as pd\n",
        "\n",
        "salary_trends = spark.sql('''\n",
        "SELECT Age, AVG(Salary) AS AverageSalary\n",
        "FROM employees\n",
        "GROUP BY Age\n",
        "ORDER BY Age\n",
        "''').toPandas()\n",
        "\n",
        "plt.figure(figsize=(10, 5))\n",
        "\n",
        "plt.plot(salary_trends['Age'].to_numpy(), salary_trends['AverageSalary'].to_numpy(), marker='o')\n",
        "plt.xlabel('Age')\n",
        "plt.ylabel('Average Salary')\n",
        "plt.title('Salary Trends by Age')\n",
        "plt.grid(True)\n",
        "plt.show()"
      ],
      "cell_type": "code",
      "metadata": {
        "colab": {
          "base_uri": "https://localhost:8080/",
          "height": 487
        },
        "id": "wP25mv328bSD",
        "outputId": "51f60506-096e-435c-8c89-55b7e35a5bb0"
      },
      "execution_count": null,
      "outputs": [
        {
          "output_type": "display_data",
          "data": {
            "text/plain": [
              "<Figure size 1000x500 with 1 Axes>"
            ],
            "image/png": "[encoded data removed]"
          },
          "metadata": {}
        }
      ]
    },
    {
      "cell_type": "code",
      "source": [
        "from pyspark.sql import SparkSession\n",
        "from pyspark.sql import Row\n",
        "\n",
        "# Inisialisasi Spark\n",
        "spark = SparkSession.builder.appName('SalaryAnalysis').getOrCreate()\n",
        "\n",
        "# Membuat DataFrame employees\n",
        "data_employees = [\n",
        "    Row(Name='James', Age=34, Gender='M', Salary=3000, DeptId=1),\n",
        "    Row(Name='Anna', Age=28, Gender='F', Salary=4100, DeptId=2),\n",
        "    Row(Name='Lee', Age=23, Gender='M', Salary=2700, DeptId=1),\n",
        "    Row(Name='David', Age=24, Gender='M', Salary=2800, DeptId=1),\n",
        "    Row(Name='Sarah', Age=28, Gender='F', Salary=4500, DeptId=2),\n",
        "    Row(Name='Peter', Age=34, Gender='M', Salary=3200, DeptId=1),\n",
        "    Row(Name='Nancy', Age=28, Gender='F', Salary=3800, DeptId=2)\n",
        "]\n",
        "\n",
        "employees = spark.createDataFrame(data_employees)\n",
        "employees.createOrReplaceTempView('employees')\n",
        "\n",
        "# Membuat DataFrame departments\n",
        "data_departments = [\n",
        "    Row(DeptId=1, DeptName='HR'),\n",
        "    Row(DeptId=2, DeptName='Marketing')\n",
        "]\n",
        "\n",
        "departments = spark.createDataFrame(data_departments)\n",
        "departments.createOrReplaceTempView('departments')\n",
        "\n",
        "# Menampilkan DataFrame employees dan departments\n",
        "employees.show()\n",
        "departments.show()"
      ],
      "metadata": {
        "colab": {
          "base_uri": "https://localhost:8080/"
        },
        "id": "cSetQjzXA7i7",
        "outputId": "291d756a-3f9c-45a2-c102-0a515738291b"
      },
      "execution_count": null,
      "outputs": [
        {
          "output_type": "stream",
          "name": "stdout",
          "text": [
            "+-----+---+------+------+------+\n",
            "| Name|Age|Gender|Salary|DeptId|\n",
            "+-----+---+------+------+------+\n",
            "|James| 34|     M|  3000|     1|\n",
            "| Anna| 28|     F|  4100|     2|\n",
            "|  Lee| 23|     M|  2700|     1|\n",
            "|David| 24|     M|  2800|     1|\n",
            "|Sarah| 28|     F|  4500|     2|\n",
            "|Peter| 34|     M|  3200|     1|\n",
            "|Nancy| 28|     F|  3800|     2|\n",
            "+-----+---+------+------+------+\n",
            "\n",
            "+------+---------+\n",
            "|DeptId| DeptName|\n",
            "+------+---------+\n",
            "|     1|       HR|\n",
            "|     2|Marketing|\n",
            "+------+---------+\n",
            "\n"
          ]
        }
      ]
    },
    {
      "source": [
        "# TUGAS HOMEWORK 1\n",
        "from pyspark.sql import SparkSession\n",
        "import matplotlib.pyplot as plt\n",
        "\n",
        "spark = SparkSession.builder.appName('SalaryAnalysis').getOrCreate()\n",
        "\n",
        "from pyspark.sql import Row\n",
        "\n",
        "data_employees = [\n",
        "    Row(Name='James', Age=34, Gender='M', Salary=3000, DeptId=1),\n",
        "    Row(Name='Anna', Age=28, Gender='F', Salary=4100, DeptId=2),\n",
        "    Row(Name='Lee', Age=23, Gender='M', Salary=2700, DeptId=1),\n",
        "    Row(Name='David', Age=24, Gender='M', Salary=2800, DeptId=1),\n",
        "    Row(Name='Sarah', Age=28, Gender='F', Salary=4500, DeptId=2),\n",
        "    Row(Name='Peter', Age=34, Gender='M', Salary=3200, DeptId=1),\n",
        "    Row(Name='Nancy', Age=28, Gender='F', Salary=3800, DeptId=2)\n",
        "]\n",
        "employees = spark.createDataFrame(data_employees)\n",
        "employees.createOrReplaceTempView('employees')\n",
        "\n",
        "# Create departments DataFrame and view\n",
        "data_departments = [\n",
        "    Row(DeptId=1, DeptName='HR'),\n",
        "    Row(DeptId=2, DeptName='Marketing')\n",
        "]\n",
        "departments = spark.createDataFrame(data_departments)\n",
        "departments.createOrReplaceTempView('departments')\n",
        "\n",
        "\n",
        "# Total gaji dan jumlah karyawan per departemen\n",
        "dept_salary_count = spark.sql('''\n",
        "    SELECT d.DeptName, SUM(e.Salary) AS TotalSalary, COUNT(e.Name) AS EmployeeCount\n",
        "    FROM employees e\n",
        "    JOIN departments d ON e.DeptId = d.DeptId\n",
        "    GROUP BY d.DeptName\n",
        "''').toPandas()\n",
        "\n",
        "# Visualisasi perbandingan antar departemen\n",
        "plt.figure(figsize=(10, 5))\n",
        "dept_salary_count.plot(x='DeptName', y=['TotalSalary', 'EmployeeCount'], kind='bar')\n",
        "plt.title('Total Gaji dan Jumlah Karyawan per Departemen')\n",
        "plt.xlabel('Departemen')\n",
        "plt.ylabel('Nilai')\n",
        "plt.grid(True)\n",
        "plt.show()"
      ],
      "cell_type": "code",
      "metadata": {
        "colab": {
          "base_uri": "https://localhost:8080/",
          "height": 544
        },
        "id": "OA1M7FrIWzVv",
        "outputId": "0f79ef4a-f717-49a8-e88b-43c3c6347e90"
      },
      "execution_count": null,
      "outputs": [
        {
          "output_type": "display_data",
          "data": {
            "text/plain": [
              "<Figure size 1000x500 with 0 Axes>"
            ]
          },
          "metadata": {}
        },
        {
          "output_type": "display_data",
          "data": {
            "text/plain": [
              "<Figure size 640x480 with 1 Axes>"
            ],
            "image/png": "[encoded data removed]"
          },
          "metadata": {}
        }
      ]
    },
    {
      "source": [
        "# TUGAS HOMEWORK 2\n",
        "import pandas as pd\n",
        "\n",
        "data = [\n",
        "    ('James', 34, 'M', 3000, 1),\n",
        "    ('Anna', 28, 'F', 4100, 2),\n",
        "    ('Lee', 23, 'M', 2700, 1),\n",
        "    ('Robert', 34, 'M', 3600, 2),\n",
        "    ('Sophia', 28, 'F', 3800, 1),\n",
        "    ('David', 23, 'M', 2500, 3),\n",
        "    ('Maria', 40, 'F', 5000, 2),\n",
        "    ('Tom', 40, 'M', 4800, 3)\n",
        "]\n",
        "\n",
        "columns = ['Name', 'Age', 'Gender', 'Salary', 'DeptId']\n",
        "\n",
        "df = pd.DataFrame(data, columns=columns)\n",
        "\n",
        "age_salary_avg = df.groupby('Age')['Salary'].mean().reset_index()\n",
        "\n",
        "df = df.merge(age_salary_avg, on='Age', suffixes=('', '_Avg'))\n",
        "\n",
        "above_avg_salary = df[df['Salary'] > df['Salary_Avg']]\n",
        "\n",
        "above_avg_salary"
      ],
      "cell_type": "code",
      "metadata": {
        "colab": {
          "base_uri": "https://localhost:8080/",
          "height": 175
        },
        "id": "0YHaJra3X9Lc",
        "outputId": "83476291-d075-4682-c678-4acc96c6f488"
      },
      "execution_count": null,
      "outputs": [
        {
          "output_type": "execute_result",
          "data": {
            "text/plain": [
              "     Name  Age Gender  Salary  DeptId  Salary_Avg\n",
              "1    Anna   28      F    4100       2      3950.0\n",
              "2     Lee   23      M    2700       1      2600.0\n",
              "3  Robert   34      M    3600       2      3300.0\n",
              "6   Maria   40      F    5000       2      4900.0"
            ],
            "text/html": [
              "\n",
              "  <div id=\"df-ac8784ed-0bfb-44cc-a55a-1c130af4b651\" class=\"colab-df-container\">\n",
              "    <div>\n",
              "<style scoped>\n",
              "    .dataframe tbody tr th:only-of-type {\n",
              "        vertical-align: middle;\n",
              "    }\n",
              "\n",
              "    .dataframe tbody tr th {\n",
              "        vertical-align: top;\n",
              "    }\n",
              "\n",
              "    .dataframe thead th {\n",
              "        text-align: right;\n",
              "    }\n",
              "</style>\n",
              "<table border=\"1\" class=\"dataframe\">\n",
              "  <thead>\n",
              "    <tr style=\"text-align: right;\">\n",
              "      <th></th>\n",
              "      <th>Name</th>\n",
              "      <th>Age</th>\n",
              "      <th>Gender</th>\n",
              "      <th>Salary</th>\n",
              "      <th>DeptId</th>\n",
              "      <th>Salary_Avg</th>\n",
              "    </tr>\n",
              "  </thead>\n",
              "  <tbody>\n",
              "    <tr>\n",
              "      <th>1</th>\n",
              "      <td>Anna</td>\n",
              "      <td>28</td>\n",
              "      <td>F</td>\n",
              "      <td>4100</td>\n",
              "      <td>2</td>\n",
              "      <td>3950.0</td>\n",
              "    </tr>\n",
              "    <tr>\n",
              "      <th>2</th>\n",
              "      <td>Lee</td>\n",
              "      <td>23</td>\n",
              "      <td>M</td>\n",
              "      <td>2700</td>\n",
              "      <td>1</td>\n",
              "      <td>2600.0</td>\n",
              "    </tr>\n",
              "    <tr>\n",
              "      <th>3</th>\n",
              "      <td>Robert</td>\n",
              "      <td>34</td>\n",
              "      <td>M</td>\n",
              "      <td>3600</td>\n",
              "      <td>2</td>\n",
              "      <td>3300.0</td>\n",
              "    </tr>\n",
              "    <tr>\n",
              "      <th>6</th>\n",
              "      <td>Maria</td>\n",
              "      <td>40</td>\n",
              "      <td>F</td>\n",
              "      <td>5000</td>\n",
              "      <td>2</td>\n",
              "      <td>4900.0</td>\n",
              "    </tr>\n",
              "  </tbody>\n",
              "</table>\n",
              "</div>\n",
              "    <div class=\"colab-df-buttons\">\n",
              "\n",
              "  <div class=\"colab-df-container\">\n",
              "    <button class=\"colab-df-convert\" onclick=\"convertToInteractive('df-ac8784ed-0bfb-44cc-a55a-1c130af4b651')\"\n",
              "            title=\"Convert this dataframe to an interactive table.\"\n",
              "            style=\"display:none;\">\n",
              "\n",
              "  <svg xmlns=\"http://www.w3.org/2000/svg\" height=\"24px\" viewBox=\"0 -960 960 960\">\n",
              "    <path d=\"M120-120v-720h720v720H120Zm60-500h600v-160H180v160Zm220 220h160v-160H400v160Zm0 220h160v-160H400v160ZM180-400h160v-160H180v160Zm440 0h160v-160H620v160ZM180-180h160v-160H180v160Zm440 0h160v-160H620v160Z\"/>\n",
              "  </svg>\n",
              "    </button>\n",
              "\n",
              "  <style>\n",
              "    .colab-df-container {\n",
              "      display:flex;\n",
              "      gap: 12px;\n",
              "    }\n",
              "\n",
              "    .colab-df-convert {\n",
              "      background-color: #E8F0FE;\n",
              "      border: none;\n",
              "      border-radius: 50%;\n",
              "      cursor: pointer;\n",
              "      display: none;\n",
              "      fill: #1967D2;\n",
              "      height: 32px;\n",
              "      padding: 0 0 0 0;\n",
              "      width: 32px;\n",
              "    }\n",
              "\n",
              "    .colab-df-convert:hover {\n",
              "      background-color: #E2EBFA;\n",
              "      box-shadow: 0px 1px 2px rgba(60, 64, 67, 0.3), 0px 1px 3px 1px rgba(60, 64, 67, 0.15);\n",
              "      fill: #174EA6;\n",
              "    }\n",
              "\n",
              "    .colab-df-buttons div {\n",
              "      margin-bottom: 4px;\n",
              "    }\n",
              "\n",
              "    [theme=dark] .colab-df-convert {\n",
              "      background-color: #3B4455;\n",
              "      fill: #D2E3FC;\n",
              "    }\n",
              "\n",
              "    [theme=dark] .colab-df-convert:hover {\n",
              "      background-color: #434B5C;\n",
              "      box-shadow: 0px 1px 3px 1px rgba(0, 0, 0, 0.15);\n",
              "      filter: drop-shadow(0px 1px 2px rgba(0, 0, 0, 0.3));\n",
              "      fill: #FFFFFF;\n",
              "    }\n",
              "  </style>\n",
              "\n",
              "    <script>\n",
              "      const buttonEl =\n",
              "        document.querySelector('#df-ac8784ed-0bfb-44cc-a55a-1c130af4b651 button.colab-df-convert');\n",
              "      buttonEl.style.display =\n",
              "        google.colab.kernel.accessAllowed ? 'block' : 'none';\n",
              "\n",
              "      async function convertToInteractive(key) {\n",
              "        const element = document.querySelector('#df-ac8784ed-0bfb-44cc-a55a-1c130af4b651');\n",
              "        const dataTable =\n",
              "          await google.colab.kernel.invokeFunction('convertToInteractive',\n",
              "                                                    [key], {});\n",
              "        if (!dataTable) return;\n",
              "\n",
              "        const docLinkHtml = 'Like what you see? Visit the ' +\n",
              "          '<a target=\"_blank\" href=https://colab.research.google.com/notebooks/data_table.ipynb>data table notebook</a>'\n",
              "          + ' to learn more about interactive tables.';\n",
              "        element.innerHTML = '';\n",
              "        dataTable['output_type'] = 'display_data';\n",
              "        await google.colab.output.renderOutput(dataTable, element);\n",
              "        const docLink = document.createElement('div');\n",
              "        docLink.innerHTML = docLinkHtml;\n",
              "        element.appendChild(docLink);\n",
              "      }\n",
              "    </script>\n",
              "  </div>\n",
              "\n",
              "\n",
              "<div id=\"df-17dfa395-11a6-4fde-a801-8046b14ef107\">\n",
              "  <button class=\"colab-df-quickchart\" onclick=\"quickchart('df-17dfa395-11a6-4fde-a801-8046b14ef107')\"\n",
              "            title=\"Suggest charts\"\n",
              "            style=\"display:none;\">\n",
              "\n",
              "<svg xmlns=\"http://www.w3.org/2000/svg\" height=\"24px\"viewBox=\"0 0 24 24\"\n",
              "     width=\"24px\">\n",
              "    <g>\n",
              "        <path d=\"M19 3H5c-1.1 0-2 .9-2 2v14c0 1.1.9 2 2 2h14c1.1 0 2-.9 2-2V5c0-1.1-.9-2-2-2zM9 17H7v-7h2v7zm4 0h-2V7h2v10zm4 0h-2v-4h2v4z\"/>\n",
              "    </g>\n",
              "</svg>\n",
              "  </button>\n",
              "\n",
              "<style>\n",
              "  .colab-df-quickchart {\n",
              "      --bg-color: #E8F0FE;\n",
              "      --fill-color: #1967D2;\n",
              "      --hover-bg-color: #E2EBFA;\n",
              "      --hover-fill-color: #174EA6;\n",
              "      --disabled-fill-color: #AAA;\n",
              "      --disabled-bg-color: #DDD;\n",
              "  }\n",
              "\n",
              "  [theme=dark] .colab-df-quickchart {\n",
              "      --bg-color: #3B4455;\n",
              "      --fill-color: #D2E3FC;\n",
              "      --hover-bg-color: #434B5C;\n",
              "      --hover-fill-color: #FFFFFF;\n",
              "      --disabled-bg-color: #3B4455;\n",
              "      --disabled-fill-color: #666;\n",
              "  }\n",
              "\n",
              "  .colab-df-quickchart {\n",
              "    background-color: var(--bg-color);\n",
              "    border: none;\n",
              "    border-radius: 50%;\n",
              "    cursor: pointer;\n",
              "    display: none;\n",
              "    fill: var(--fill-color);\n",
              "    height: 32px;\n",
              "    padding: 0;\n",
              "    width: 32px;\n",
              "  }\n",
              "\n",
              "  .colab-df-quickchart:hover {\n",
              "    background-color: var(--hover-bg-color);\n",
              "    box-shadow: 0 1px 2px rgba(60, 64, 67, 0.3), 0 1px 3px 1px rgba(60, 64, 67, 0.15);\n",
              "    fill: var(--button-hover-fill-color);\n",
              "  }\n",
              "\n",
              "  .colab-df-quickchart-complete:disabled,\n",
              "  .colab-df-quickchart-complete:disabled:hover {\n",
              "    background-color: var(--disabled-bg-color);\n",
              "    fill: var(--disabled-fill-color);\n",
              "    box-shadow: none;\n",
              "  }\n",
              "\n",
              "  .colab-df-spinner {\n",
              "    border: 2px solid var(--fill-color);\n",
              "    border-color: transparent;\n",
              "    border-bottom-color: var(--fill-color);\n",
              "    animation:\n",
              "      spin 1s steps(1) infinite;\n",
              "  }\n",
              "\n",
              "  @keyframes spin {\n",
              "    0% {\n",
              "      border-color: transparent;\n",
              "      border-bottom-color: var(--fill-color);\n",
              "      border-left-color: var(--fill-color);\n",
              "    }\n",
              "    20% {\n",
              "      border-color: transparent;\n",
              "      border-left-color: var(--fill-color);\n",
              "      border-top-color: var(--fill-color);\n",
              "    }\n",
              "    30% {\n",
              "      border-color: transparent;\n",
              "      border-left-color: var(--fill-color);\n",
              "      border-top-color: var(--fill-color);\n",
              "      border-right-color: var(--fill-color);\n",
              "    }\n",
              "    40% {\n",
              "      border-color: transparent;\n",
              "      border-right-color: var(--fill-color);\n",
              "      border-top-color: var(--fill-color);\n",
              "    }\n",
              "    60% {\n",
              "      border-color: transparent;\n",
              "      border-right-color: var(--fill-color);\n",
              "    }\n",
              "    80% {\n",
              "      border-color: transparent;\n",
              "      border-right-color: var(--fill-color);\n",
              "      border-bottom-color: var(--fill-color);\n",
              "    }\n",
              "    90% {\n",
              "      border-color: transparent;\n",
              "      border-bottom-color: var(--fill-color);\n",
              "    }\n",
              "  }\n",
              "</style>\n",
              "\n",
              "  <script>\n",
              "    async function quickchart(key) {\n",
              "      const quickchartButtonEl =\n",
              "        document.querySelector('#' + key + ' button');\n",
              "      quickchartButtonEl.disabled = true;  // To prevent multiple clicks.\n",
              "      quickchartButtonEl.classList.add('colab-df-spinner');\n",
              "      try {\n",
              "        const charts = await google.colab.kernel.invokeFunction(\n",
              "            'suggestCharts', [key], {});\n",
              "      } catch (error) {\n",
              "        console.error('Error during call to suggestCharts:', error);\n",
              "      }\n",
              "      quickchartButtonEl.classList.remove('colab-df-spinner');\n",
              "      quickchartButtonEl.classList.add('colab-df-quickchart-complete');\n",
              "    }\n",
              "    (() => {\n",
              "      let quickchartButtonEl =\n",
              "        document.querySelector('#df-17dfa395-11a6-4fde-a801-8046b14ef107 button');\n",
              "      quickchartButtonEl.style.display =\n",
              "        google.colab.kernel.accessAllowed ? 'block' : 'none';\n",
              "    })();\n",
              "  </script>\n",
              "</div>\n",
              "\n",
              "  <div id=\"id_8a91253c-d6a2-46e8-89c2-4bd1cce314f5\">\n",
              "    <style>\n",
              "      .colab-df-generate {\n",
              "        background-color: #E8F0FE;\n",
              "        border: none;\n",
              "        border-radius: 50%;\n",
              "        cursor: pointer;\n",
              "        display: none;\n",
              "        fill: #1967D2;\n",
              "        height: 32px;\n",
              "        padding: 0 0 0 0;\n",
              "        width: 32px;\n",
              "      }\n",
              "\n",
              "      .colab-df-generate:hover {\n",
              "        background-color: #E2EBFA;\n",
              "        box-shadow: 0px 1px 2px rgba(60, 64, 67, 0.3), 0px 1px 3px 1px rgba(60, 64, 67, 0.15);\n",
              "        fill: #174EA6;\n",
              "      }\n",
              "\n",
              "      [theme=dark] .colab-df-generate {\n",
              "        background-color: #3B4455;\n",
              "        fill: #D2E3FC;\n",
              "      }\n",
              "\n",
              "      [theme=dark] .colab-df-generate:hover {\n",
              "        background-color: #434B5C;\n",
              "        box-shadow: 0px 1px 3px 1px rgba(0, 0, 0, 0.15);\n",
              "        filter: drop-shadow(0px 1px 2px rgba(0, 0, 0, 0.3));\n",
              "        fill: #FFFFFF;\n",
              "      }\n",
              "    </style>\n",
              "    <button class=\"colab-df-generate\" onclick=\"generateWithVariable('above_avg_salary')\"\n",
              "            title=\"Generate code using this dataframe.\"\n",
              "            style=\"display:none;\">\n",
              "\n",
              "  <svg xmlns=\"http://www.w3.org/2000/svg\" height=\"24px\"viewBox=\"0 0 24 24\"\n",
              "       width=\"24px\">\n",
              "    <path d=\"M7,19H8.4L18.45,9,17,7.55,7,17.6ZM5,21V16.75L18.45,3.32a2,2,0,0,1,2.83,0l1.4,1.43a1.91,1.91,0,0,1,.58,1.4,1.91,1.91,0,0,1-.58,1.4L9.25,21ZM18.45,9,17,7.55Zm-12,3A5.31,5.31,0,0,0,4.9,8.1,5.31,5.31,0,0,0,1,6.5,5.31,5.31,0,0,0,4.9,4.9,5.31,5.31,0,0,0,6.5,1,5.31,5.31,0,0,0,8.1,4.9,5.31,5.31,0,0,0,12,6.5,5.46,5.46,0,0,0,6.5,12Z\"/>\n",
              "  </svg>\n",
              "    </button>\n",
              "    <script>\n",
              "      (() => {\n",
              "      const buttonEl =\n",
              "        document.querySelector('#id_8a91253c-d6a2-46e8-89c2-4bd1cce314f5 button.colab-df-generate');\n",
              "      buttonEl.style.display =\n",
              "        google.colab.kernel.accessAllowed ? 'block' : 'none';\n",
              "\n",
              "      buttonEl.onclick = () => {\n",
              "        google.colab.notebook.generateWithVariable('above_avg_salary');\n",
              "      }\n",
              "      })();\n",
              "    </script>\n",
              "  </div>\n",
              "\n",
              "    </div>\n",
              "  </div>\n"
            ],
            "application/vnd.google.colaboratory.intrinsic+json": {
              "type": "dataframe",
              "variable_name": "above_avg_salary",
              "summary": "{\n  \"name\": \"above_avg_salary\",\n  \"rows\": 4,\n  \"fields\": [\n    {\n      \"column\": \"Name\",\n      \"properties\": {\n        \"dtype\": \"string\",\n        \"num_unique_values\": 4,\n        \"samples\": [\n          \"Lee\",\n          \"Maria\",\n          \"Anna\"\n        ],\n        \"semantic_type\": \"\",\n        \"description\": \"\"\n      }\n    },\n    {\n      \"column\": \"Age\",\n      \"properties\": {\n        \"dtype\": \"number\",\n        \"std\": 7,\n        \"min\": 23,\n        \"max\": 40,\n        \"num_unique_values\": 4,\n        \"samples\": [\n          23,\n          40,\n          28\n        ],\n        \"semantic_type\": \"\",\n        \"description\": \"\"\n      }\n    },\n    {\n      \"column\": \"Gender\",\n      \"properties\": {\n        \"dtype\": \"string\",\n        \"num_unique_values\": 2,\n        \"samples\": [\n          \"M\",\n          \"F\"\n        ],\n        \"semantic_type\": \"\",\n        \"description\": \"\"\n      }\n    },\n    {\n      \"column\": \"Salary\",\n      \"properties\": {\n        \"dtype\": \"number\",\n        \"std\": 960,\n        \"min\": 2700,\n        \"max\": 5000,\n        \"num_unique_values\": 4,\n        \"samples\": [\n          2700,\n          5000\n        ],\n        \"semantic_type\": \"\",\n        \"description\": \"\"\n      }\n    },\n    {\n      \"column\": \"DeptId\",\n      \"properties\": {\n        \"dtype\": \"number\",\n        \"std\": 0,\n        \"min\": 1,\n        \"max\": 2,\n        \"num_unique_values\": 2,\n        \"samples\": [\n          1,\n          2\n        ],\n        \"semantic_type\": \"\",\n        \"description\": \"\"\n      }\n    },\n    {\n      \"column\": \"Salary_Avg\",\n      \"properties\": {\n        \"dtype\": \"number\",\n        \"std\": 978.4128303873915,\n        \"min\": 2600.0,\n        \"max\": 4900.0,\n        \"num_unique_values\": 4,\n        \"samples\": [\n          2600.0,\n          4900.0\n        ],\n        \"semantic_type\": \"\",\n        \"description\": \"\"\n      }\n    }\n  ]\n}"
            }
          },
          "metadata": {},
          "execution_count": 6
        }
      ]
    },
    {
      "cell_type": "code",
      "source": [
        "# TUGAS HOMNEWORK 3\n",
        "import random\n",
        "import pandas as pd\n",
        "\n",
        "# Membuat dataset lebih besar (100+ baris)\n",
        "random_data = [(f'Employee_{i}', random.randint(20, 60), random.choice(['M', 'F']), random.randint(2000, 8000), random.randint(1, 5)) for i in range(1, 101)]\n",
        "big_df = spark.createDataFrame(random_data, ['Name', 'Age', 'Gender', 'Salary', 'DeptId'])\n",
        "big_df.createOrReplaceTempView('big_employees')\n",
        "\n",
        "# Contoh analisis mendalam\n",
        "big_analysis = spark.sql('''\n",
        "    SELECT d.DeptName, SUM(e.Salary) AS TotalSalary, AVG(e.Salary) AS AvgSalary, COUNT(e.Name) AS EmployeeCount\n",
        "    FROM big_employees e\n",
        "    JOIN departments d ON e.DeptId = d.DeptId\n",
        "    GROUP BY d.DeptName\n",
        "''').toPandas()\n",
        "\n",
        "# Visualisasi hasil analisis\n",
        "plt.figure(figsize=(10, 5))\n",
        "big_analysis.plot(x='DeptName', y=['TotalSalary', 'AvgSalary'], kind='bar')\n",
        "plt.title('Analisis Total Gaji dan Rata-Rata Gaji per Departemen')\n",
        "plt.xlabel('Departemen')\n",
        "plt.ylabel('Nilai')\n",
        "plt.grid(True)\n",
        "plt.show()"
      ],
      "metadata": {
        "colab": {
          "base_uri": "https://localhost:8080/",
          "height": 544
        },
        "id": "7lXr-9YaZ9V9",
        "outputId": "682ca2f8-7c68-4979-988b-41d978bc26d6"
      },
      "execution_count": null,
      "outputs": [
        {
          "output_type": "display_data",
          "data": {
            "text/plain": [
              "<Figure size 1000x500 with 0 Axes>"
            ]
          },
          "metadata": {}
        },
        {
          "output_type": "display_data",
          "data": {
            "text/plain": [
              "<Figure size 640x480 with 1 Axes>"
            ],
            "image/png": "[encoded data removed]"
          },
          "metadata": {}
        }
      ]
    }
  ]
}