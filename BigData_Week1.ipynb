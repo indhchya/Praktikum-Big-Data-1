{
 "cells": [
  {
   "cell_type": "code",
   "execution_count": 5,
   "id": "c0f77508-73ae-47f3-98fd-ad32fdf94406",
   "metadata": {},
   "outputs": [],
   "source": [
    "import findspark\n",
    "findspark.init()"
   ]
  },
  {
   "cell_type": "code",
   "execution_count": 6,
   "id": "2b061812-6da5-45b6-ae20-8f8d6fa24688",
   "metadata": {},
   "outputs": [
    {
     "name": "stdout",
     "output_type": "stream",
     "text": [
      "+-----+----+------------+--------+---------+\n",
      "| Nama|Usia|   Pekerjaan|    Hobi|   Gender|\n",
      "+-----+----+------------+--------+---------+\n",
      "| Alex|  34|       Pilot| Memanah|Laki-laki|\n",
      "| Beno|  23|     Tentara|Menembak|Laki-laki|\n",
      "|Citra|  29|   Pramugari|  Makeup|Perempuan|\n",
      "|Diana|  25|Pegawai Bank| Memasak|Perempuan|\n",
      "+-----+----+------------+--------+---------+\n",
      "\n"
     ]
    }
   ],
   "source": [
    "from pyspark.sql import SparkSession\n",
    "\n",
    "# Memulai Spark session\n",
    "spark = SparkSession.builder.appName(\"BigDataPractice\").getOrCreate()\n",
    "\n",
    "# Membuat DataFrame sederhana\n",
    "data = [(\"Alex\", 34, \"Pilot\", \"Memanah\", \"Laki-laki\"), (\"Beno\", 23, \"Tentara\", \"Menembak\", \"Laki-laki\"), (\"Citra\", 29, \"Pramugari\", \"Makeup\", \"Perempuan\"), (\"Diana\", 25, \"Pegawai Bank\", \"Memasak\", \"Perempuan\")]\n",
    "columns = [\"Nama\", \"Usia\", \"Pekerjaan\", \"Hobi\", \"Gender\"]\n",
    "df = spark.createDataFrame(data, columns)\n",
    "\n",
    "# Menampilkan DataFrame\n",
    "df.show()"
   ]
  },
  {
   "cell_type": "code",
   "execution_count": 7,
   "id": "4219e174-54f4-4dab-818e-b100de07cf87",
   "metadata": {},
   "outputs": [
    {
     "name": "stdout",
     "output_type": "stream",
     "text": [
      "+-----+----+------------+--------+---------+\n",
      "| Nama|Usia|   Pekerjaan|    Hobi|   Gender|\n",
      "+-----+----+------------+--------+---------+\n",
      "| Alex|  34|       Pilot| Memanah|Laki-laki|\n",
      "| Beno|  23|     Tentara|Menembak|Laki-laki|\n",
      "|Citra|  29|   Pramugari|  Makeup|Perempuan|\n",
      "|Diana|  25|Pegawai Bank| Memasak|Perempuan|\n",
      "+-----+----+------------+--------+---------+\n",
      "\n",
      "+----+----+---------+-------+---------+\n",
      "|Nama|Usia|Pekerjaan|   Hobi|   Gender|\n",
      "+----+----+---------+-------+---------+\n",
      "|Alex|  34|    Pilot|Memanah|Laki-laki|\n",
      "+----+----+---------+-------+---------+\n",
      "\n",
      "+---------+\n",
      "|avg(Usia)|\n",
      "+---------+\n",
      "|    27.75|\n",
      "+---------+\n",
      "\n",
      "+-----+----+------------+--------+---------+\n",
      "| Nama|Usia|   Pekerjaan|    Hobi|   Gender|\n",
      "+-----+----+------------+--------+---------+\n",
      "| Alex|  34|       Pilot| Memanah|Laki-laki|\n",
      "|Citra|  29|   Pramugari|  Makeup|Perempuan|\n",
      "|Diana|  25|Pegawai Bank| Memasak|Perempuan|\n",
      "| Beno|  23|     Tentara|Menembak|Laki-laki|\n",
      "+-----+----+------------+--------+---------+\n",
      "\n"
     ]
    }
   ],
   "source": [
    "from pyspark.sql import SparkSession\n",
    "\n",
    "# Memulai Spark session\n",
    "spark = SparkSession.builder.appName(\"BigDataPractice\").getOrCreate()\n",
    "\n",
    "# Membuat DataFrame sederhana\n",
    "data = [(\"Alex\", 34, \"Pilot\", \"Memanah\", \"Laki-laki\"), (\"Beno\", 23, \"Tentara\", \"Menembak\", \"Laki-laki\"), (\"Citra\", 29, \"Pramugari\", \"Makeup\", \"Perempuan\"), (\"Diana\", 25, \"Pegawai Bank\", \"Memasak\", \"Perempuan\")]\n",
    "columns = [\"Nama\", \"Usia\", \"Pekerjaan\", \"Hobi\", \"Gender\"]\n",
    "df = spark.createDataFrame(data, columns)\n",
    "\n",
    "# Menampilkan DataFrame\n",
    "df.show()\n",
    "\n",
    "# Filtering data\n",
    "df_filtered = df.filter(df['Usia'] > 30)\n",
    "df_filtered.show()\n",
    "\n",
    "# Menghitung rata-rata usia\n",
    "from pyspark.sql.functions import avg\n",
    "df.groupBy().agg(avg(\"Usia\")).show()\n",
    "\n",
    "# Mengurutkan data berdasarkan usia\n",
    "df_sorted = df.orderBy(\"Usia\", ascending=False)\n",
    "df_sorted.show()"
   ]
  },
  {
   "cell_type": "code",
   "execution_count": 8,
   "id": "d7034bcc-aa27-476a-a185-a1854bfd5d65",
   "metadata": {},
   "outputs": [
    {
     "data": {
      "text/html": [
       "<div>\n",
       "<style scoped>\n",
       "    .dataframe tbody tr th:only-of-type {\n",
       "        vertical-align: middle;\n",
       "    }\n",
       "\n",
       "    .dataframe tbody tr th {\n",
       "        vertical-align: top;\n",
       "    }\n",
       "\n",
       "    .dataframe thead th {\n",
       "        text-align: right;\n",
       "    }\n",
       "</style>\n",
       "<table border=\"1\" class=\"dataframe\">\n",
       "  <thead>\n",
       "    <tr style=\"text-align: right;\">\n",
       "      <th></th>\n",
       "      <th>Nama</th>\n",
       "      <th>Usia</th>\n",
       "      <th>Pekerjaan</th>\n",
       "      <th>Hobi</th>\n",
       "      <th>Gender</th>\n",
       "    </tr>\n",
       "  </thead>\n",
       "  <tbody>\n",
       "    <tr>\n",
       "      <th>0</th>\n",
       "      <td>Alex</td>\n",
       "      <td>34</td>\n",
       "      <td>Pilot</td>\n",
       "      <td>Memanah</td>\n",
       "      <td>Laki-laki</td>\n",
       "    </tr>\n",
       "    <tr>\n",
       "      <th>1</th>\n",
       "      <td>Beno</td>\n",
       "      <td>23</td>\n",
       "      <td>Tentara</td>\n",
       "      <td>Menembak</td>\n",
       "      <td>Laki-Laki</td>\n",
       "    </tr>\n",
       "    <tr>\n",
       "      <th>2</th>\n",
       "      <td>Citra</td>\n",
       "      <td>29</td>\n",
       "      <td>Pramugari</td>\n",
       "      <td>Makeup</td>\n",
       "      <td>Perempuan</td>\n",
       "    </tr>\n",
       "    <tr>\n",
       "      <th>3</th>\n",
       "      <td>Diana</td>\n",
       "      <td>25</td>\n",
       "      <td>Pegawai Bank</td>\n",
       "      <td>Memasak</td>\n",
       "      <td>Perempuan</td>\n",
       "    </tr>\n",
       "  </tbody>\n",
       "</table>\n",
       "</div>"
      ],
      "text/plain": [
       "    Nama  Usia     Pekerjaan      Hobi     Gender\n",
       "0   Alex    34         Pilot   Memanah  Laki-laki\n",
       "1   Beno    23       Tentara  Menembak  Laki-Laki\n",
       "2  Citra    29     Pramugari    Makeup  Perempuan\n",
       "3  Diana    25  Pegawai Bank   Memasak  Perempuan"
      ]
     },
     "execution_count": 8,
     "metadata": {},
     "output_type": "execute_result"
    }
   ],
   "source": [
    "import pandas as pd\n",
    "\n",
    "# Membuat DataFrame Pandas\n",
    "data_pandas = {\"Nama\": [\"Alex\", \"Beno\", \"Citra\", \"Diana\"], \"Usia\": [34, 23, 29, 25], \"Pekerjaan\": [\"Pilot\", \"Tentara\", \"Pramugari\", \"Pegawai Bank\"], \"Hobi\": [\"Memanah\", \"Menembak\", \"Makeup\", \"Memasak\"], \"Gender\": [\"Laki-laki\", \"Laki-Laki\", \"Perempuan\", \"Perempuan\"]}\n",
    "df_pandas = pd.DataFrame(data_pandas)\n",
    "\n",
    "# Menampilkan DataFrame Pandas\n",
    "df_pandas"
   ]
  },
  {
   "cell_type": "code",
   "execution_count": 14,
   "id": "4c978b59-6afb-4a2e-a102-ed52cc7a9786",
   "metadata": {},
   "outputs": [
    {
     "name": "stdout",
     "output_type": "stream",
     "text": [
      "    Nama  Usia     Pekerjaan\n",
      "0   Alex    34         Pilot\n",
      "1   Beno    23       Tentara\n",
      "2  Citra    29     Pramugari\n",
      "3  Diana    25  Pegawai Bank\n",
      "            Usia\n",
      "count   4.000000\n",
      "mean   27.750000\n",
      "std     4.856267\n",
      "min    23.000000\n",
      "25%    24.500000\n",
      "50%    27.000000\n",
      "75%    30.250000\n",
      "max    34.000000\n"
     ]
    },
    {
     "data": {
      "image/png": "[encoded data removed]",
      "text/plain": [
       "<Figure size 640x480 with 1 Axes>"
      ]
     },
     "metadata": {},
     "output_type": "display_data"
    }
   ],
   "source": [
    "import pandas as pd\n",
    "\n",
    "# Membuat DataFrame Pandas\n",
    "data_pandas = {\"Nama\": [\"Alex\", \"Beno\", \"Citra\", \"Diana\"], \"Usia\": [34, 23, 29, 25]}\n",
    "df_pandas = pd.DataFrame(data_pandas)\n",
    "\n",
    "# Membuat DataFrame kedua\n",
    "data_pandas_2 = {\"Nama\": [\"Alex\", \"Beno\", \"Citra\", \"Diana\"], \"Pekerjaan\": [\"Pilot\", \"Tentara\", \"Pramugari\", \"Pegawai Bank\"]}\n",
    "df_pandas_2 = pd.DataFrame(data_pandas_2)\n",
    "\n",
    "# Join antara dua DataFrame\n",
    "df_joined = pd.merge(df_pandas, df_pandas_2, on=\"Nama\")\n",
    "print(df_joined)\n",
    "\n",
    "# Menghitung statistik deskriptif\n",
    "print(df_pandas.describe())\n",
    "\n",
    "# Plotting Data\n",
    "import matplotlib.pyplot as plt\n",
    "df_pandas['Usia'].plot(kind='bar')\n",
    "plt.show()"
   ]
  },
  {
   "cell_type": "code",
   "execution_count": 15,
   "id": "f2c1eef3-82c7-4d61-8a0d-4405c17e350e",
   "metadata": {},
   "outputs": [
    {
     "name": "stdout",
     "output_type": "stream",
     "text": [
      "+-----+----+\n",
      "| Nama|Usia|\n",
      "+-----+----+\n",
      "| Alex|  34|\n",
      "| Beno|  23|\n",
      "|Citra|  29|\n",
      "|Diana|  25|\n",
      "+-----+----+\n",
      "\n",
      "+---------+\n",
      "|avg(Usia)|\n",
      "+---------+\n",
      "|    27.75|\n",
      "+---------+\n",
      "\n"
     ]
    }
   ],
   "source": [
    "# Mengonversi DataFrame dari PySpark ke Pandas\n",
    "df_pandas_from_spark = df.toPandas()\n",
    "\n",
    "# Mengonversi DataFrame dari Pandas ke PySpark\n",
    "df_spark_from_pandas = spark.createDataFrame(df_pandas)\n",
    "\n",
    "# Menampilkan DataFrame hasil konversi\n",
    "df_pandas_from_spark, df_spark_from_pandas.show()\n",
    "\n",
    "# Menghitung rata-rata usia\n",
    "from pyspark.sql.functions import avg\n",
    "df.groupBy().agg(avg(\"Usia\")).show()"
   ]
  },
  {
   "cell_type": "code",
   "execution_count": 16,
   "id": "d6ecc796-5273-44eb-becc-a3b984cdeeb7",
   "metadata": {},
   "outputs": [
    {
     "name": "stdout",
     "output_type": "stream",
     "text": [
      "+-----+----+\n",
      "| Nama|Usia|\n",
      "+-----+----+\n",
      "| Alex|  34|\n",
      "| Beno|  23|\n",
      "|Citra|  29|\n",
      "|Diana|  25|\n",
      "+-----+----+\n",
      "\n",
      "    Nama  Usia     Pekerjaan\n",
      "0   Alex    34         Pilot\n",
      "1   Beno    23       Tentara\n",
      "2  Citra    29     Pramugari\n",
      "3  Diana    25  Pegawai Bank\n",
      "\n",
      "            Usia\n",
      "count   4.000000\n",
      "mean   27.750000\n",
      "std     4.856267\n",
      "min    23.000000\n",
      "25%    24.500000\n",
      "50%    27.000000\n",
      "75%    30.250000\n",
      "max    34.000000\n"
     ]
    }
   ],
   "source": [
    "# Mengonversi DataFrame dari PySpark ke Pandas\n",
    "df_pandas_from_spark = df.toPandas()\n",
    "\n",
    "# Mengonversi DataFrame dari Pandas ke PySpark\n",
    "df_spark_from_pandas = spark.createDataFrame(df_pandas)\n",
    "\n",
    "# Menampilkan DataFrame hasil konversi\n",
    "df_pandas_from_spark, df_spark_from_pandas.show()\n",
    "\n",
    "# Join antara dua DataFrame\n",
    "df_joined = pd.merge(df_pandas, df_pandas_2, on=\"Nama\")\n",
    "print(df_joined)\n",
    "\n",
    "# Menghitung statistik deskriptif\n",
    "print()\n",
    "print(df_pandas.describe())"
   ]
  }
 ],
 "metadata": {
  "kernelspec": {
   "display_name": "Python 3 (ipykernel)",
   "language": "python",
   "name": "python3"
  },
  "language_info": {
   "codemirror_mode": {
    "name": "ipython",
    "version": 3
   },
   "file_extension": ".py",
   "mimetype": "text/x-python",
   "name": "python",
   "nbconvert_exporter": "python",
   "pygments_lexer": "ipython3",
   "version": "3.11.9"
  }
 },
 "nbformat": 4,
 "nbformat_minor": 5
}
